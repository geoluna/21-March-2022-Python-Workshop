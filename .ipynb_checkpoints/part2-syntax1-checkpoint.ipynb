{
 "cells": [
  {
   "cell_type": "markdown",
   "metadata": {},
   "source": [
    "---\n",
    "\n",
    "# A Brief Introduction to Python for Data Analytics\n",
    "\n",
    "\n",
    "### Instructor\n",
    "[George Milunovich](https://www.georgemilunovich.com)    \n",
    "[george.milunovich@mq.edu.au](mailto:george.milunovich@mq.edu.au)   \n",
    "[Associate Professor](https://researchers.mq.edu.au/en/persons/george-milunovich)  \n",
    "Department of Actuarial Studies and Business Analytics  \n",
    "Macquarie University   \n",
    "Sydney, Australia  \n",
    "\n"
   ]
  },
  {
   "cell_type": "markdown",
   "metadata": {},
   "source": [
    "---\n",
    "\n",
    "## Part 2: Basic Python Syntax 1\n",
    "\n",
    "- [Python Indentation](#Python-Indentation)\n",
    "- [Data Types](#Data-Types)  \n",
    "- [Variables](#Variables)\n",
    "- [Changing Variable Values](#Changing-Variable-Values)"
   ]
  },
  {
   "cell_type": "markdown",
   "metadata": {},
   "source": [
    "---\n",
    "\n",
    "## Python Indentation\n",
    "\n",
    "Indentation refers to the spaces at the beginning of a code line\n",
    "- Python uses indentation to indicate a block of code\n",
    "- Where in other programming languages the indentation in code is for readability only, the indentation in Python is very important\n",
    "- Python will give you an error if indentation is incorrect\n",
    "\n",
    "Copy and paste the following code in the cells below\n",
    "\n",
    "\n",
    "   \n",
    "```\n",
    "print('Hello World')\n",
    "print('Hello Again')\n",
    "\n",
    "```\n"
   ]
  },
  {
   "cell_type": "code",
   "execution_count": null,
   "metadata": {},
   "outputs": [],
   "source": []
  },
  {
   "cell_type": "markdown",
   "metadata": {},
   "source": [
    "<hr style=\"width:30%;margin-left:0;\"> \n",
    "\n",
    "- Now try the following\n",
    "\n",
    "\n",
    "   \n",
    "```\n",
    "print('Hello World')\n",
    " print('Hello Again')\n",
    "\n",
    "```"
   ]
  },
  {
   "cell_type": "code",
   "execution_count": null,
   "metadata": {},
   "outputs": [],
   "source": []
  },
  {
   "cell_type": "markdown",
   "metadata": {},
   "source": [
    "---\n",
    "\n",
    "## Data Types\n",
    "\n",
    "A data type is an attribute of data which tells the compiler (interpreter) how the programmer intends to use the data. Python like most programming languages support basic data types of \n",
    "- Integer numbers \n",
    "- Floating-point numbers (which approximate real numbers)\n",
    "- Strings (of characters)\n",
    "- Booleans (True/False or 1/0) \n",
    "\n",
    "In Python, we do not need to explicitly declare the types of data.  \n",
    "- We can check data types using the `type()` function"
   ]
  },
  {
   "cell_type": "markdown",
   "metadata": {},
   "source": [
    "<hr style=\"width:30%;margin-left:0;\"> \n",
    "\n",
    "\n",
    "- Copy and paste line by line of following code into the cells below\n",
    "\n",
    "\n",
    "```\n",
    "type(10)\n",
    "\n",
    "type(10.0)\n",
    "\n",
    "type('Hello World')\n",
    "\n",
    "type(True)\n",
    "```"
   ]
  },
  {
   "cell_type": "code",
   "execution_count": null,
   "metadata": {},
   "outputs": [],
   "source": []
  },
  {
   "cell_type": "code",
   "execution_count": null,
   "metadata": {},
   "outputs": [],
   "source": []
  },
  {
   "cell_type": "code",
   "execution_count": null,
   "metadata": {},
   "outputs": [],
   "source": []
  },
  {
   "cell_type": "code",
   "execution_count": null,
   "metadata": {},
   "outputs": [],
   "source": []
  },
  {
   "cell_type": "markdown",
   "metadata": {},
   "source": [
    "---\n",
    "\n",
    "## Variables\n",
    "\n",
    "**Variables are containers for storing data values** \n",
    "- Python has no command for declaring a variable  \n",
    "- A variable is created the moment you first assign a value to it using `=` sign\n"
   ]
  },
  {
   "cell_type": "markdown",
   "metadata": {},
   "source": [
    "\n",
    "<hr style=\"width:30%;margin-left:0;\"> \n",
    "\n",
    "For example, to assign value 55 to a variable weight_kg, we would execute:\n",
    "\n",
    "```\n",
    "weight_kg = 55\n",
    "print(weight_kg)\n",
    "```"
   ]
  },
  {
   "cell_type": "code",
   "execution_count": null,
   "metadata": {},
   "outputs": [],
   "source": []
  },
  {
   "cell_type": "markdown",
   "metadata": {},
   "source": [
    "From now on, whenever we use weight_kg, Python will substitute the value we assigned to it. In essence, a variable is just a name for a value.\n",
    "\n",
    "```\n",
    "print(weight_kg + 5)\n",
    "print(weight_kg)\n",
    "\n",
    "```"
   ]
  },
  {
   "cell_type": "code",
   "execution_count": null,
   "metadata": {},
   "outputs": [],
   "source": []
  },
  {
   "cell_type": "markdown",
   "metadata": {},
   "source": [
    "<hr style=\"width:30%;margin-left:0;\"> \n",
    "\n",
    "In Python, variable names:\n",
    "\n",
    "- Can include letters, digits, and underscores - `A-z, a-z, _`\n",
    "- Cannot start with a digit\n",
    "- Are case sensitive\n",
    "\n",
    "This means that, for example:\n",
    "- `weight0` is a valid variable name, whereas `0weight` is not  \n",
    "- `weight` and `Weight` are different variables\n",
    "\n",
    "\n",
    "```\n",
    "Weight_kg = 75\n",
    "print(weight_kg, Weight_kg)\n",
    "\n",
    "```\n",
    "\n"
   ]
  },
  {
   "cell_type": "code",
   "execution_count": null,
   "metadata": {},
   "outputs": [],
   "source": []
  },
  {
   "cell_type": "markdown",
   "metadata": {},
   "source": [
    "Lets also try the following\n",
    "\n",
    "```\n",
    "a = 2\n",
    "A = 3\n",
    "\n",
    "print(a)\n",
    "print(A)\n",
    "```"
   ]
  },
  {
   "cell_type": "code",
   "execution_count": null,
   "metadata": {},
   "outputs": [],
   "source": []
  },
  {
   "cell_type": "markdown",
   "metadata": {},
   "source": [
    "---\n",
    "## Changing Variable Values\n",
    "\n",
    "As the name implies, a variable is something which can change. Once a variable is assigned a value we can easily overwrite it by giving it another value. Try the following:\n",
    "\n",
    "```\n",
    "x1 = 10\n",
    "print(x1)\n",
    "\n",
    "```"
   ]
  },
  {
   "cell_type": "code",
   "execution_count": null,
   "metadata": {},
   "outputs": [],
   "source": []
  },
  {
   "cell_type": "markdown",
   "metadata": {},
   "source": [
    "and then\n",
    "\n",
    "```\n",
    "x1 = 12.1\n",
    "print(x1)\n",
    "```"
   ]
  },
  {
   "cell_type": "code",
   "execution_count": null,
   "metadata": {},
   "outputs": [],
   "source": []
  },
  {
   "cell_type": "markdown",
   "metadata": {},
   "source": [
    "#### Updating a Variable\n",
    "\n",
    "Variables calculated from other variables do not change value just because the orignal variable change value (unlike cells in Excel):\n",
    "\n",
    "```\n",
    "x1 = 10\n",
    "print(f'x1 is {x1}')\n",
    "\n",
    "x2 = x1   # create variable x2 and assign it the value of x1\n",
    "print(f'x2 is {x2}')\n",
    "\n",
    "x1 = 5\n",
    "print(f'x1 is {x1}')\n",
    "print(f'x2 is {x2}')\n",
    "```"
   ]
  },
  {
   "cell_type": "code",
   "execution_count": null,
   "metadata": {},
   "outputs": [],
   "source": []
  },
  {
   "cell_type": "code",
   "execution_count": null,
   "metadata": {},
   "outputs": [],
   "source": []
  },
  {
   "cell_type": "code",
   "execution_count": null,
   "metadata": {},
   "outputs": [],
   "source": []
  },
  {
   "cell_type": "markdown",
   "metadata": {},
   "source": [
    "- Since `x2` doesn’t *remember* where its value comes from, it is not updated when we change `x1`. \n",
    "- Such variables are called **immutable**, i.e. if this variable is created by assigning to it a value from another variable, then changing the value of the original variables will not change the value of the new variable (as above). \n",
    "\n",
    "- There are some variables for which this is not true, e.g. lists, which are said to be **mutable**. More on this later."
   ]
  },
  {
   "cell_type": "code",
   "execution_count": null,
   "metadata": {},
   "outputs": [],
   "source": []
  }
 ],
 "metadata": {
  "kernelspec": {
   "display_name": "Python 3 (ipykernel)",
   "language": "python",
   "name": "python3"
  },
  "language_info": {
   "codemirror_mode": {
    "name": "ipython",
    "version": 3
   },
   "file_extension": ".py",
   "mimetype": "text/x-python",
   "name": "python",
   "nbconvert_exporter": "python",
   "pygments_lexer": "ipython3",
   "version": "3.9.7"
  }
 },
 "nbformat": 4,
 "nbformat_minor": 4
}
