{
 "cells": [
  {
   "cell_type": "markdown",
   "metadata": {},
   "source": [
    "---\n",
    "\n",
    "# A Brief Introduction to Python for Data Analytics\n",
    "\n",
    "### Instructor\n",
    "[George Milunovich](https://www.georgemilunovich.com)    \n",
    "[george.milunovich@mq.edu.au](mailto:george.milunovich@mq.edu.au)   \n",
    "[Associate Professor](https://researchers.mq.edu.au/en/persons/george-milunovich)  \n",
    "Department of Actuarial Studies and Business Analytics  \n",
    "Macquarie University   \n",
    "Sydney, Australia  \n",
    "\n",
    "\n",
    "### References\n",
    "1. [Python Programming for Economics and Finance](https://python-programming.quantecon.org/intro.html)\n",
    "2. [Introduction to Python for Econometrics, Statistics and Numerical Analysis: Fourth Edition](https://www.kevinsheppard.com/teaching/python/notes/)\n",
    "3. [Difference Between Python Modules, Packages, Libraries, and Frameworks](https://learnpython.com/blog/python-modules-packages-libraries-frameworks/)\n"
   ]
  },
  {
   "cell_type": "markdown",
   "metadata": {},
   "source": [
    "---\n",
    "\n",
    "## Contents\n",
    "\n",
    "- Part 0 - About Python\n",
    "    - Why Python\n",
    "    - Important Libraries for Data Analysis and Research\n",
    "- Part 1 - Installing & Running Python  \n",
    "    - Installing and Running Python  \n",
    "    - Learning How to open and read Jupyter Notebooks (.ipynb) with JupyterLab  \n",
    "- Part 2: Basic Python Syntax 1\n",
    "    - Python Indentation\n",
    "    - Data Types \n",
    "    - Variables\n",
    "    - Changing Variable Values\n",
    "- Part 3: Basic Python Syntax 2\n",
    "    - Collections\n",
    "    - Lists\n",
    "    - The `if` Statement\n",
    "    - The `for` Loop\n",
    "    - Functions in Python\n",
    "    - Classes in Python\n",
    "- Part 4: Intro to Data Analysis\n",
    "    - Libraries\n",
    "    - pandas\n",
    "    - Working with pandas DataFrame\n",
    "    - Making Predictions with sklearn  "
   ]
  },
  {
   "cell_type": "markdown",
   "metadata": {},
   "source": [
    "---\n",
    "---\n",
    "\n",
    "## Part 0: About Python\n",
    "\n",
    "- [Why Python](#Why-Python)\n",
    "- [Important Libraries for Data Analysis and Research](#Important-Libraries-for-Data-Analysis-and-Research)"
   ]
  },
  {
   "cell_type": "markdown",
   "metadata": {},
   "source": [
    "---\n",
    "\n",
    "## Why Python\n",
    "\n",
    "[https://python-programming.quantecon.org/about_py.html](https://python-programming.quantecon.org/about_py.html)\n",
    "\n",
    "- A general-purpose programming language\n",
    "- Free and open source\n",
    "- Relatively small core language supported by many libraries\n",
    "- Elegant syntax (easy to read and remember)\n",
    "- Rapid adoption in the last decade\n",
    "- Many Uses\n",
    "    - Web Development\n",
    "    - Graphical User Interfaces\n",
    "    - Game Development\n",
    "    - Multimedia\n",
    "    - Data Processing\n",
    "    - Scientific Computing\n",
    "    - Etc...\n"
   ]
  },
  {
   "cell_type": "markdown",
   "metadata": {},
   "source": [
    "<table>\n",
    "    <tr>\n",
    "        <td><h3><center>Data Science Jobs</td>\n",
    "        <td> </td>\n",
    "        <td><h3><center>Overall Language Popularity</td>\n",
    "    </tr>\n",
    "    <tr>\n",
    "        <td><img src='images/python_vs.jpg' style=\"width: 300px;\"></td>\n",
    "        <td> </td>\n",
    "        <td><img src='images/language_popularity.png' style=\"width: 500px;\"></td>\n",
    "    </tr>\n",
    "</table>"
   ]
  },
  {
   "cell_type": "markdown",
   "metadata": {},
   "source": [
    "---\n",
    "\n",
    "## Python Modules, Packages and Libraries\n",
    "\n",
    "\n",
    "Python has a very limited number of builtin functions, e.g. print(), open(), etc.\n",
    "\n",
    "\n",
    "### Modules   \n",
    "\n",
    "Majority of the interesting/useful functionality in python is available through **modules**\n",
    "- A **module** is basically a bunch of related code saved in a file with the extension .py.   \n",
    "- You may choose to define functions, classes, or variables in a module.    \n",
    "- E.g. `Random` and `datetime`\n",
    "\n",
    "### Python Packages   \n",
    "\n",
    "When developing a large application, you may end up with many different modules that are difficult to manage \n",
    "- In such a case, you’ll benefit from grouping and organizing your modules into **packages**   \n",
    "- E.g. `NumPy`, `pandas`   \n",
    "- To be considered a package (or subpackage), a directory must contain a file named \\_\\_init\\_\\_.py\n",
    "\n",
    "\n",
    "### Libraries\n",
    "A library is an umbrella term referring to a reusable chunk of code \n",
    "- A Python library contains a collection of related modules and packages \n",
    "- This term is often used interchangeably with “Python package” because packages can also contain modules and other packages (subpackages)\n",
    "    - However, it is often assumed that while a package is a collection of modules, a library is a collection of packages\n",
    "- E.g. `Matplotlib`, `PyTorch`"
   ]
  },
  {
   "cell_type": "markdown",
   "metadata": {},
   "source": [
    "---\n",
    "\n",
    "## Important Libraries for Data Analysis and Research\n",
    "1. [Numpy](http://www.numpy.org/) - Numerical Python: Linear Algebra, Probability Distributions, etc.\n",
    "2. [Matplotlib](http://matplotlib.org/) - Graphics\n",
    "3. [Pandas](https://pandas.pydata.org/) - Data Manipulation and Analysis\n",
    "4. [Seaborn](https://seaborn.pydata.org) - More (Sophisticated) Graphics\n",
    "5. [statsmodels](https://www.statsmodels.org/stable/index.html) - Statistics\n",
    "6. [scikit-learn](https://scikit-learn.org) - Machine Learning\n",
    "7. [scipy](https://www.scipy.org/) - Scientific Python\n",
    "8. [SymPy](https://www.sympy.org) - Symbolic Computation\n"
   ]
  },
  {
   "cell_type": "markdown",
   "metadata": {},
   "source": [
    "<hr style=\"width:30%;margin-left:0;\"> \n",
    "\n",
    "### [1. NumPy](http://www.numpy.org/) - Numerical Python\n",
    "- Fundamental matrix/array processing\n",
    "- Random variables\n",
    "- Linear algebra\n",
    "\n",
    "\n",
    "<span style='background:orange'> Exercise: Generate $X\\sim\\cal{N}(0,1)$ random variable\n",
    "    \n",
    "```\n",
    "\n"
   ]
  },
  {
   "cell_type": "code",
   "execution_count": null,
   "metadata": {},
   "outputs": [],
   "source": [
    "import numpy as np\n",
    "# np.random.seed(0)\n",
    "\n",
    "mu, sigma, smpl_size = 0, 1, 10\n",
    "X = np.random.normal(mu, sigma, size = (smpl_size, 1))\n",
    "\n",
    "\n",
    "X"
   ]
  },
  {
   "cell_type": "markdown",
   "metadata": {},
   "source": [
    "<hr style=\"width:30%;margin-left:0;\"> \n",
    "\n",
    "### [2. Matplotlib](http://matplotlib.org/) - Graphics with functionality including\n",
    "- Plots, histograms, 3D graphs, bar charts etc.\n",
    "- Output in many formats (PDF, PNG, EPS, etc.)\n",
    "- LaTeX integration\n",
    "\n",
    "<span style='background:orange'> Exercise: Generate $y$ and plot a scatterplot"
   ]
  },
  {
   "cell_type": "code",
   "execution_count": null,
   "metadata": {},
   "outputs": [],
   "source": [
    "import matplotlib.pyplot as plt\n",
    "\n",
    "y = 1 + 0.5*X + np.random.normal(mu, sigma, size = (smpl_size, 1))\n",
    "\n",
    "plt.scatter(X, y)\n",
    "plt.xlabel('This is X')\n",
    "plt.xlim((-5, 5))\n",
    "\n",
    "plt.ylabel('This is y')\n",
    "plt.ylim((-5,6))\n",
    "\n",
    "plt.show()"
   ]
  },
  {
   "cell_type": "markdown",
   "metadata": {},
   "source": [
    "<hr style=\"width:30%;margin-left:0;\"> \n",
    "\n",
    "### [3. Pandas](https://pandas.pydata.org/) - Data Manipulation and Analysis\n",
    "- Data structures and operations for manipulating numerical tables and time series\n",
    "- Pandas stands for panel data\n",
    "\n",
    "<span style='background:orange'> Exercise: Import $X$ and $y$ into a pandas dataframe & print descriptive statistics"
   ]
  },
  {
   "cell_type": "code",
   "execution_count": null,
   "metadata": {},
   "outputs": [],
   "source": [
    "import pandas as pd\n",
    "\n",
    "dates = pd.date_range('19/03/2022', periods = smpl_size)\n",
    "all_data = np.hstack((y, X))\n",
    "\n",
    "df = pd.DataFrame(all_data, columns = ['Return_A', 'Return_B'], index = dates)\n",
    "\n",
    "df"
   ]
  },
  {
   "cell_type": "code",
   "execution_count": null,
   "metadata": {},
   "outputs": [],
   "source": [
    "df.describe()"
   ]
  },
  {
   "cell_type": "markdown",
   "metadata": {},
   "source": [
    "<hr style=\"width:30%;margin-left:0;\"> \n",
    "\n",
    "### [4. Seaborn](https://seaborn.pydata.org) - More (Sophisticated) Graphics\n",
    "- Data visualization library based on matplotlib.\n",
    "- Provides a high-level interface for drawing attractive and informative statistical graphics\n",
    "\n",
    "<span style='background:orange'> Exercise: Plot estimated distributions"
   ]
  },
  {
   "cell_type": "code",
   "execution_count": null,
   "metadata": {},
   "outputs": [],
   "source": [
    "import seaborn as sns\n",
    "sns.set_theme(style=\"darkgrid\")\n",
    "\n",
    "sns.kdeplot(data = df, shade = True)\n",
    "plt.show()"
   ]
  },
  {
   "cell_type": "markdown",
   "metadata": {},
   "source": [
    "<hr style=\"width:30%;margin-left:0;\"> \n",
    "\n",
    "### [5. statsmodels](https://www.statsmodels.org/stable/index.html) - Statistics\n",
    "- Statistical data exploration\n",
    "- Statistical tests\n",
    "- Estimation of many different statistical models\n",
    "\n",
    "<span style='background:orange'> Exercise: Estimate a linear regression $\\hat{y} = \\alpha + \\beta{x}$ using OLS"
   ]
  },
  {
   "cell_type": "code",
   "execution_count": null,
   "metadata": {},
   "outputs": [],
   "source": [
    "import statsmodels.api as sm\n",
    "import statsmodels.formula.api as smf\n",
    "\n",
    "results = smf.ols('Return_A ~ Return_B', data=df).fit() # Fit a regression model\n",
    "results.summary() # Inspect results\n",
    "\n"
   ]
  },
  {
   "cell_type": "markdown",
   "metadata": {},
   "source": [
    "<hr style=\"width:30%;margin-left:0;\"> \n",
    "\n",
    "### [6. scikit-learn](https://scikit-learn.org) - Machine Learning\n",
    "- Predictive Data Analysis\n",
    "    - Regression \n",
    "    - Classification\n",
    "- Clustering\n",
    "- Etc\n",
    "\n",
    "<span style='background:orange'> Exercise: Estimate a linear regression $\\hat{y} = \\alpha + \\beta{x}$ using Support Vector Regressor"
   ]
  },
  {
   "cell_type": "code",
   "execution_count": null,
   "metadata": {},
   "outputs": [],
   "source": [
    "from sklearn.svm import SVR\n",
    "from sklearn.metrics import r2_score\n",
    "\n",
    "regr = SVR(C=1.0, epsilon=0.2, kernel='linear')\n",
    "regr.fit(X, y.ravel())\n",
    "y_pred = regr.predict(X)\n",
    "\n",
    "print(f'R2: {r2_score(y, y_pred):.3f}')\n",
    "\n",
    "print(f'slope: {regr.coef_[0][0]:.3f}')\n",
    "      \n",
    "# plt.plot(np.hstack((y, y_pred.reshape(-1, 1))))\n",
    "# plt.show()"
   ]
  },
  {
   "cell_type": "markdown",
   "metadata": {},
   "source": [
    "<hr style=\"width:30%;margin-left:0;\"> \n",
    "\n",
    "### [7. scipy](https://www.scipy.org/) - Scientific Python\n",
    "\n",
    "- Open-source Python library used for scientific computing and technical computing\n",
    "- SciPy contains modules for \n",
    "    - Optimization\n",
    "    - Linear algebra\n",
    "    - Integration\n",
    "    - Interpolation\n",
    "    - Special functions\n",
    "    - FFT\n",
    "    - Signal and image processing\n",
    "    - ODE solvers\n",
    "    \n",
    "<span style='background:orange'> Exercise: Numerical integration using Gaussian quadrature"
   ]
  },
  {
   "cell_type": "code",
   "execution_count": 30,
   "metadata": {},
   "outputs": [
    {
     "data": {
      "image/png": "[encoded data removed]",
      "text/plain": [
       "<Figure size 432x288 with 1 Axes>"
      ]
     },
     "metadata": {},
     "output_type": "display_data"
    }
   ],
   "source": [
    "%precision 3\n",
    "\n",
    "from scipy.stats import norm \n",
    "\n",
    "normal_rv = norm()   # create a normal continous random variable\n",
    "\n",
    "\n",
    "x = np.linspace(normal_rv.ppf(0.01), normal_rv.ppf(0.99), 100)  # ppf - percent point function (inverse of cdf — percentiles).\n",
    "\n",
    "plt.plot(x, normal_rv.pdf(x), 'r-', lw=5, alpha=0.6, label='norm pdf')\n",
    "plt.show()"
   ]
  },
  {
   "cell_type": "code",
   "execution_count": 233,
   "metadata": {},
   "outputs": [
    {
     "data": {
      "text/plain": [
       "0.950"
      ]
     },
     "execution_count": 233,
     "metadata": {},
     "output_type": "execute_result"
    }
   ],
   "source": [
    "from scipy.integrate import quad\n",
    "value, error = quad(normal_rv.pdf, -1.95996, 1.95996)  # Integrate using Gaussian quadrature\n",
    "value\n"
   ]
  },
  {
   "cell_type": "markdown",
   "metadata": {},
   "source": [
    "<hr style=\"width:30%;margin-left:0;\"> \n",
    "\n",
    "### [8. SymPy](https://www.sympy.org) - Symbolic Computation\n",
    "- [List of capabilities](https://en.wikipedia.org/wiki/SymPy)\n",
    "\n",
    "<span style='background:orange'> Exercises: matrix multiplication, manipulating expressions, solving limits"
   ]
  },
  {
   "cell_type": "code",
   "execution_count": 33,
   "metadata": {},
   "outputs": [
    {
     "data": {
      "text/latex": [
       "$\\displaystyle \\left[\\begin{matrix}x_{1} & x_{2} & x_{3}\\end{matrix}\\right]$"
      ],
      "text/plain": [
       "Matrix([[x1, x2, x3]])"
      ]
     },
     "metadata": {},
     "output_type": "display_data"
    },
    {
     "data": {
      "text/latex": [
       "$\\displaystyle \\left[\\begin{matrix}w_{11} & w_{12}\\\\w_{21} & w_{22}\\\\w_{31} & w_{32}\\end{matrix}\\right]$"
      ],
      "text/plain": [
       "Matrix([\n",
       "[w11, w12],\n",
       "[w21, w22],\n",
       "[w31, w32]])"
      ]
     },
     "metadata": {},
     "output_type": "display_data"
    },
    {
     "data": {
      "text/latex": [
       "$\\displaystyle \\left[\\begin{matrix}w_{11} x_{1} + w_{21} x_{2} + w_{31} x_{3} & w_{12} x_{1} + w_{22} x_{2} + w_{32} x_{3}\\end{matrix}\\right]$"
      ],
      "text/plain": [
       "Matrix([[w11*x1 + w21*x2 + w31*x3, w12*x1 + w22*x2 + w32*x3]])"
      ]
     },
     "metadata": {},
     "output_type": "display_data"
    }
   ],
   "source": [
    "from IPython.display import display\n",
    "import sympy as sym\n",
    "\n",
    "x1, x2, x3 = sym.symbols('x1, x2, x3')\n",
    "w11, w12, w21, w22, w31, w32 = sym.symbols('w11, w12, w21, w22, w31, w32')\n",
    "\n",
    "x = sym.Matrix([[x1, x2, x3]])\n",
    "W = sym.Matrix([[w11, w12],[w21, w22],[w31, w32]])\n",
    "\n",
    "\n",
    "display(x)\n",
    "display(W)\n",
    "\n",
    "display(x*W)\n"
   ]
  },
  {
   "cell_type": "code",
   "execution_count": 34,
   "metadata": {},
   "outputs": [
    {
     "data": {
      "text/latex": [
       "$\\displaystyle x^{2} + 2 x y + y^{2}$"
      ],
      "text/plain": [
       "x**2 + 2*x*y + y**2"
      ]
     },
     "execution_count": 34,
     "metadata": {},
     "output_type": "execute_result"
    }
   ],
   "source": [
    "x, y = sym.Symbol('x'), sym.Symbol('y')  # Treat 'x' and 'y' as algebraic symbols\n",
    "z = (x + y)**2\n",
    "z.expand()"
   ]
  },
  {
   "cell_type": "code",
   "execution_count": 35,
   "metadata": {},
   "outputs": [
    {
     "data": {
      "text/latex": [
       "$\\displaystyle \\infty$"
      ],
      "text/plain": [
       "oo"
      ]
     },
     "execution_count": 35,
     "metadata": {},
     "output_type": "execute_result"
    }
   ],
   "source": [
    "from sympy import limit\n",
    "\n",
    "limit(1 / x, x, 0)"
   ]
  },
  {
   "cell_type": "markdown",
   "metadata": {},
   "source": [
    "<table><tr><td><img src='images/python_libraries.png' style=\"width: 500px;\"></td></tr></table>"
   ]
  }
 ],
 "metadata": {
  "kernelspec": {
   "display_name": "Python 3 (ipykernel)",
   "language": "python",
   "name": "python3"
  },
  "language_info": {
   "codemirror_mode": {
    "name": "ipython",
    "version": 3
   },
   "file_extension": ".py",
   "mimetype": "text/x-python",
   "name": "python",
   "nbconvert_exporter": "python",
   "pygments_lexer": "ipython3",
   "version": "3.9.7"
  }
 },
 "nbformat": 4,
 "nbformat_minor": 4
}
