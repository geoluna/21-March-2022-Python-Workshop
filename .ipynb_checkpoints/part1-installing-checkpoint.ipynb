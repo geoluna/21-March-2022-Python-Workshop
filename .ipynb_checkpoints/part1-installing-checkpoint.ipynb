{
 "cells": [
  {
   "cell_type": "markdown",
   "metadata": {},
   "source": [
    "---\n",
    "\n",
    "# A Brief Introduction to Python for Data Analytics\n",
    "\n",
    "\n",
    "### Instructor\n",
    "[George Milunovich](https://www.georgemilunovich.com)    \n",
    "[george.milunovich@gmail.com](mailto:george.milunovich@gmail.com)   \n",
    "[Associate Professor](https://researchers.mq.edu.au/en/persons/george-milunovich)  \n",
    "Department of Actuarial Studies and Business Analytics  \n",
    "Macquarie University   \n",
    "Sydney, Australia  \n",
    "\n"
   ]
  },
  {
   "cell_type": "markdown",
   "metadata": {},
   "source": [
    "---\n",
    "---\n",
    "\n",
    "## Part 1: Installing & Running Python  \n",
    "\n",
    "- [Installing Anaconda Python](#Installing-Anaconda-Python)  \n",
    "- [Starting Anaconda Navigator](#Starting-Anaconda-Navigator)\n",
    "- [Starting Jupyter Notebooks](#Starting-Jupyter-Notebooks)\n",
    "- [Opening Jupyter Notebooks](#Opening-Jupyter-Notebooks)\n",
    "- [Testing that Python Runs Inside JyperLab](#Testing-that-Python-Runs-Inside-JyperLab)"
   ]
  },
  {
   "cell_type": "markdown",
   "metadata": {},
   "source": [
    "---\n",
    "<img src=\"images/installing_image6.png\" alt=\"Drawing\" style=\"width: 600px;\"/>  \n"
   ]
  },
  {
   "cell_type": "markdown",
   "metadata": {},
   "source": [
    "---\n",
    "\n",
    "### Installing Anaconda Python\n",
    "\n",
    "- We will use **Anaconda** distribution of Python\n",
    "    - Anaconda is a free and open-source distribution of the Python and R programming languages for scientific computing\n",
    "    - Aims to simplify package management and deployment (includes most popular libraries)\n",
    "- Go to Anaconda website [https://www.anaconda.com/products/individual](https://www.anaconda.com/products/individual)\n",
    "- Scroll down to the bottom of the page until you see \"Anaconda Installers\" as in the image below\n",
    "- Choose an installer for your OS, Python 3.9 (or higher) and 64-Bit Installer\n",
    "- Click on the saved installer and install to your machine\n",
    "- Done!\n",
    "\n",
    "\n",
    "\n",
    "<img src=\"images/installing_image2.png\" alt=\"Drawing\" style=\"width: 600px;\"/>  \n",
    "\n",
    "\n",
    "\n",
    "\n",
    "- If unable to install see: \n",
    "    - Step-by-step instructions [https://docs.anaconda.com/anaconda/navigator/](https://docs.anaconda.com/anaconda/navigator/)\n",
    "    - Anaconda Navigator cheat sheet: [https://docs.anaconda.com/_downloads/9ee215ff15fde24bf01791d719084950/Anaconda-Starter-Guide.pdf](https://docs.anaconda.com/_downloads/9ee215ff15fde24bf01791d719084950/Anaconda-Starter-Guide.pdf) \n",
    "    \n"
   ]
  },
  {
   "cell_type": "markdown",
   "metadata": {},
   "source": [
    "<hr style=\"width:30%;margin-left:0;\"> \n",
    "\n",
    "### Starting Anaconda Navigator\n",
    "- If on Windows, click **Start** and type **Anaconda**\n",
    "    - If using other type of OS follow similar instructions\n",
    "- Click on **Anaconda Navigator** as in the image below\n",
    "- Anaconda Navigator will open\n",
    "\n",
    "<img src=\"images/installing_image3.png\" alt=\"Drawing\" style=\"width: 500px;\"/>  \n",
    "\n"
   ]
  },
  {
   "cell_type": "markdown",
   "metadata": {},
   "source": [
    "<hr style=\"width:30%;margin-left:0;\"> \n",
    "\n",
    "### Starting Jupyter Notebooks\n",
    "\n",
    "\n",
    "- Click on \"Launch\" below **JupyterLab** package\n",
    "\n",
    "<img src=\"images/installing_image4.png\" alt=\"Drawing\" style=\"width: 500px;\"/>  \n",
    "\n"
   ]
  },
  {
   "cell_type": "markdown",
   "metadata": {},
   "source": [
    "<img src=\"images/installing_image8.png\" alt=\"Drawing\" style=\"width: 500px;\"/>  \n",
    "\n",
    "- The REPL is how you interact with the Python Interpreter (Read, Evaluate, Print, Loop) \n",
    "- Unlike running a file containing Python code, in the REPL you can type commands and instantly see the output printed out"
   ]
  },
  {
   "cell_type": "markdown",
   "metadata": {},
   "source": [
    "<hr style=\"width:30%;margin-left:0;\"> \n",
    "\n",
    "### Opening Jupyter Notebooks\n",
    "\n",
    "- Download workshop Jupyter Notebooks to your computer (files with .ipynb extension)\n",
    "- In **File Explorer** (on the left) in *JupyterLab* navigate to the directory where you saved Jupyter Notebooks\n",
    "- Select **Python-Part-1-Installing.ipynb** to open the file in JyperLab\n",
    "\n",
    "<img src=\"images/installing_image5.png\" alt=\"Drawing\" style=\"width: 500px;\"/>  \n"
   ]
  },
  {
   "cell_type": "markdown",
   "metadata": {},
   "source": [
    "---\n",
    "\n",
    "<img src=\"images/installing_image10.jpg\" alt=\"Drawing\" style=\"width: 300px;\"/>  \n",
    "\n",
    "\n",
    "If unable to install Anaconda for some reason you can use Google Colab\n",
    "- Colab is a product from Google that allows anybody to write and execute arbitrary python code through the browser\n",
    "- Colab is a hosted Jupyter notebook service that requires no setup to use, while providing access free of charge to computing resources including GPUs\n",
    "- https://colab.research.google.com/notebooks/\n",
    "- https://research.google.com/colaboratory/faq.html"
   ]
  }
 ],
 "metadata": {
  "kernelspec": {
   "display_name": "Python 3 (ipykernel)",
   "language": "python",
   "name": "python3"
  },
  "language_info": {
   "codemirror_mode": {
    "name": "ipython",
    "version": 3
   },
   "file_extension": ".py",
   "mimetype": "text/x-python",
   "name": "python",
   "nbconvert_exporter": "python",
   "pygments_lexer": "ipython3",
   "version": "3.9.7"
  }
 },
 "nbformat": 4,
 "nbformat_minor": 4
}
