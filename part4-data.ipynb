{
 "cells": [
  {
   "cell_type": "markdown",
   "id": "9b88baea-93d1-4adc-9eac-9e9f504bce00",
   "metadata": {},
   "source": [
    "---\n",
    "\n",
    "# A Brief Introduction to Python for Data Analytics\n",
    "\n",
    "\n",
    "### Instructor\n",
    "[George Milunovich](https://www.georgemilunovich.com)    \n",
    "[george.milunovich@mq.edu.au](mailto:george.milunovich@mq.edu.au)   \n",
    "[Associate Professor](https://researchers.mq.edu.au/en/persons/george-milunovich)  \n",
    "Department of Actuarial Studies and Business Analytics  \n",
    "Macquarie University   \n",
    "Sydney, Australia  \n"
   ]
  },
  {
   "cell_type": "markdown",
   "id": "c001bcc4-b2ca-452b-a89d-dbd899bc35f5",
   "metadata": {},
   "source": [
    "---\n",
    "\n",
    "## Part 4: Intro to Data Analysis\n",
    "\n",
    "- [Libraries](#Libraries)\n",
    "- [pandas](#pandas)\n",
    "- [Working with pandas DataFrame](#Working-with-pandas-DataFrame)\n",
    "- [Making Predictions with sklearn](#Making-Predictions-with-sklearn)"
   ]
  },
  {
   "cell_type": "markdown",
   "id": "700298a3-bf00-44d2-aee5-108bdf874a57",
   "metadata": {},
   "source": [
    "---\n",
    "## Libraries\n",
    "\n",
    "Python libraries are collections of functions and methods that allow us to perform many actions without writing your code \n",
    "\n",
    "- This term is often used interchangeably with “Python package” because packages can also contain modules and other packages (subpackages)\n",
    "- However, it is often assumed that while a package is a collection of modules, a library is a collection of packages\n",
    "- E.g. `Matplotlib`, `PyTorch`\n",
    "\n",
    "\n"
   ]
  },
  {
   "cell_type": "markdown",
   "id": "4575c46b-daff-4a76-8cac-b82064434f4d",
   "metadata": {},
   "source": [
    "---\n",
    "\n",
    "## pandas\n",
    "\n",
    "`pandas` (panel data) is a Python library written for data manipulation and analysis \n",
    "- It offers data structures and operations for manipulating numerical tables and time series\n",
    "\n",
    "\n",
    "<br>\n",
    "\n",
    "![image.png](images/tute_pic1.png)\n",
    "\n"
   ]
  },
  {
   "cell_type": "markdown",
   "id": "83b5b66a-e5cc-42a4-8231-57c65d4287de",
   "metadata": {},
   "source": [
    "\n",
    "- In order to load our dataset into Python, we need to access (import in Python terminology) a library data allows us to read csv or excel files. \n",
    "- We can import `pandas` and call it by its abbreviation `pd` using:\n",
    "\n",
    "\n",
    "\n",
    "```\n",
    "import pandas as pd\n",
    "```\n"
   ]
  },
  {
   "cell_type": "code",
   "execution_count": 9,
   "id": "5ece398f-0279-400e-9d46-e18fdc24e973",
   "metadata": {},
   "outputs": [],
   "source": []
  },
  {
   "cell_type": "markdown",
   "id": "959b5d5e-308d-4987-953b-b60ac27f0d69",
   "metadata": {},
   "source": [
    "<hr style=\"width:30%;margin-left:0;\"> \n",
    "\n",
    "### Dataset\n",
    "\n",
    "- Our dataset contains data on credit card defaults available from [https://archive.ics.uci.edu/ml/datasets/default+of+credit+card+clients](https://archive.ics.uci.edu/ml/datasets/default+of+credit+card+clients) \n",
    "- I have also saved the dataset to the `data` directory\n",
    "- Each row represents a different client \n",
    "- Each column stores client attributes (e.g. age, merital status, etc)\n",
    "- Last column being the target variable - whether the client has defaulted on the payment or not. \n",
    "\n",
    "\n",
    "\n",
    "```\n",
    "\n",
    "# df = pd.read_excel('https://archive.ics.uci.edu/ml/machine-learning-databases/00350/default%20of%20credit%20card%20clients.xls')\n",
    "\n",
    "df = pd.read_csv('data/credit_cards_data.csv')\n",
    "\n",
    "df\n",
    "```"
   ]
  },
  {
   "cell_type": "code",
   "execution_count": null,
   "id": "e3ec7982-9085-4db9-bb8a-20902ee82992",
   "metadata": {},
   "outputs": [],
   "source": []
  },
  {
   "cell_type": "markdown",
   "id": "d282d024-6e39-4e6b-b9b8-7db866cb84ce",
   "metadata": {},
   "source": [
    "- We can skip top row\n",
    "\n",
    "```\n",
    "df2 = pd.read_csv('data/credit_cards_data.csv', skiprows=[0])\n",
    "\n",
    "df2\n",
    "```"
   ]
  },
  {
   "cell_type": "code",
   "execution_count": null,
   "id": "c9333930-505d-41f6-8d99-1cd9db123a75",
   "metadata": {},
   "outputs": [],
   "source": []
  },
  {
   "cell_type": "markdown",
   "id": "67c810d0-1afc-4355-8560-0dc4bb725076",
   "metadata": {},
   "source": [
    "<br>\n",
    "\n",
    "Now that the data is in memory, we can manipulate it. First, let’s ask Python what type of thing `data` refers to:\n",
    "\n",
    "```\n",
    "\n",
    "print(type(df2))\n",
    "```"
   ]
  },
  {
   "cell_type": "code",
   "execution_count": null,
   "id": "6d94fe6e-6cda-4be9-9b36-8823b0c80602",
   "metadata": {},
   "outputs": [],
   "source": []
  },
  {
   "cell_type": "markdown",
   "id": "192e6e01-f2e2-4a4e-bc54-eaace6d0b691",
   "metadata": {},
   "source": [
    "---\n",
    "\n",
    "### Working with `pandas` `DataFrame`\n",
    "\n",
    "A few commands come in useful when working with pandas DataFrame objects. Try the following:\n",
    "\n",
    "- `del df2['ID']` # delete column ID\n",
    "- `df2.info()`    # DataFrame information\n",
    "- `df2.columns`   # List columns\n",
    "- `df2.shape`     # Show dimensions of the dataframe - no of columns followed by the number of rows\n",
    "- `df2.head()`    # Print the first 5 examples (observations)\n",
    "- `df2.tail()`    # Print the last 5 examples (observations)\n"
   ]
  },
  {
   "cell_type": "code",
   "execution_count": null,
   "id": "fa9a925f-9d6c-4a6d-9700-c921a21e6112",
   "metadata": {},
   "outputs": [],
   "source": []
  },
  {
   "cell_type": "code",
   "execution_count": null,
   "id": "58f5ade1-d6de-4a95-8b5f-2571d07517cb",
   "metadata": {},
   "outputs": [],
   "source": []
  },
  {
   "cell_type": "code",
   "execution_count": null,
   "id": "b9d051d4-6a08-45a4-b778-841ace42e6de",
   "metadata": {},
   "outputs": [],
   "source": []
  },
  {
   "cell_type": "code",
   "execution_count": null,
   "id": "b75cb7ba-05e1-4d0a-837f-b4bec6ac74a0",
   "metadata": {},
   "outputs": [],
   "source": []
  },
  {
   "cell_type": "code",
   "execution_count": null,
   "id": "f757d0e8-a2f2-45b3-aacb-87a03d369500",
   "metadata": {},
   "outputs": [],
   "source": []
  },
  {
   "cell_type": "code",
   "execution_count": null,
   "id": "34dc4d40-a490-44d6-85cd-090f2da4f448",
   "metadata": {},
   "outputs": [],
   "source": []
  },
  {
   "cell_type": "markdown",
   "id": "c8dd19d4-9cab-49c6-bf79-f6b4b9dc7521",
   "metadata": {},
   "source": [
    "<hr style=\"width:30%;margin-left:0;\"> \n",
    "\n",
    "### Accessing Elements in `pandas`\n",
    "\n",
    "There are multiple ways of accessing elements and slicing DataFrames in `pandas`\n",
    "- Selecting multiple rows, note: does not include 3, e.g. ```df2[0:3]```\n",
    "- Selecting multiple rows - method 2, note: includes 3, e.g. ```df2.loc[0:3]```\n",
    "- Selecting multiple rows - method 2, note: includes 3, e.g. ```df2.iloc[0:3]```\n",
    "- Selecting multiple columns, e.g.: ```df2[['LIMIT_BAL', 'SEX', 'EDUCATION']]```\n",
    "- Selecting multple rows and columns using .loc[], e.g.: ```df2.loc[0:3, ['LIMIT_BAL', 'SEX', 'EDUCATION']]```\n",
    "- Selecting multple rows and columns using .loc[], e.g.: ```df2.iloc[0:3, 0:3]]```\n"
   ]
  },
  {
   "cell_type": "code",
   "execution_count": null,
   "id": "42b1234f-08d2-4639-94cb-0d99ed609bb3",
   "metadata": {},
   "outputs": [],
   "source": []
  },
  {
   "cell_type": "code",
   "execution_count": null,
   "id": "8a2c52ba-0fa0-4b88-b1e2-2b372cf1b0a5",
   "metadata": {},
   "outputs": [],
   "source": []
  },
  {
   "cell_type": "code",
   "execution_count": null,
   "id": "8fc0c8b3-819a-414b-ab86-15899b508719",
   "metadata": {},
   "outputs": [],
   "source": []
  },
  {
   "cell_type": "code",
   "execution_count": null,
   "id": "f42aa52c-3eb7-4f03-8ad1-3e8eee2de0c4",
   "metadata": {},
   "outputs": [],
   "source": []
  },
  {
   "cell_type": "code",
   "execution_count": null,
   "id": "317619b9-b57d-492d-b7b1-c24ef68d5dc0",
   "metadata": {},
   "outputs": [],
   "source": []
  },
  {
   "cell_type": "code",
   "execution_count": null,
   "id": "9ee4c73c-dcdf-426c-94af-7ab74e5499bb",
   "metadata": {},
   "outputs": [],
   "source": []
  },
  {
   "cell_type": "markdown",
   "id": "e9cdefc0-67c9-4126-b6b4-d8b549cec5fe",
   "metadata": {},
   "source": [
    "---\n",
    "## Predicting Whether a Customer Will Default\n",
    "\n",
    "- Lets try to predict whether a customer will default based on their characteristics\n",
    "- First we will create `y` and `X`\n",
    "\n",
    "```\n",
    "y = df2['default payment next month']\n",
    "print(y)\n",
    "\n",
    "\n",
    "X = df2.copy()\n",
    "print(X.columns)\n",
    "\n",
    "del X['default payment next month']  # to remove y from X\n",
    "print(X.columns)\n",
    "\n",
    "```\n",
    "Note: I used `copy()` here rather than a simple `=` assignment when copying X.   \n",
    "This is because pandas are **mutable** - if I delete a 'default payment next month' from X it would get also deleted from df. Using copy() avoids this.."
   ]
  },
  {
   "cell_type": "code",
   "execution_count": null,
   "id": "b2ca7ba2-5b9b-44fd-aa4c-1d7347a81e57",
   "metadata": {},
   "outputs": [],
   "source": []
  },
  {
   "cell_type": "code",
   "execution_count": null,
   "id": "590f4367-f622-486b-806f-ef216c176bea",
   "metadata": {},
   "outputs": [],
   "source": []
  },
  {
   "cell_type": "code",
   "execution_count": null,
   "id": "5189a3ef-c279-4c0b-838b-1e583f86b681",
   "metadata": {},
   "outputs": [],
   "source": []
  },
  {
   "cell_type": "markdown",
   "id": "73439cf0-8bc1-41e8-b394-77529bcf1067",
   "metadata": {},
   "source": [
    "---\n",
    "## Visualising Data\n",
    "\n",
    "While there is no official plotting library, `matplotlib` is the de facto standard\n",
    "- However, when using `pandas` we can use pandas functions which are actually shortcuts to `matplotlib`'s functions\n",
    "- First, we will import the `pyplot` module from `matplotlib` and use it to plot the bar chart of the means of all the columns in df2 `DataFrame\n",
    "\n",
    "```\n",
    "import matplotlib.pyplot as plt\n",
    "\n",
    "X.mean().plot(kind='bar')\n",
    "\n",
    "plt.show()\n",
    "```"
   ]
  },
  {
   "cell_type": "code",
   "execution_count": null,
   "id": "ff082b09-3734-4598-a52b-00682f79d9d0",
   "metadata": {},
   "outputs": [],
   "source": []
  },
  {
   "cell_type": "markdown",
   "id": "a55ee551-849f-43be-bfcd-a3f6867effea",
   "metadata": {},
   "source": [
    "\n",
    "<hr style=\"width:30%;margin-left:0;\"> \n",
    "\n",
    "There are many different types of plots we can do with pandas and matplotlib.\n",
    "\n",
    "For instance we could do a scatter plot between BILL_AMT4 and BILL_AMT5 using the following command\n",
    "\n",
    "```\n",
    "df2.plot(kind='scatter',x='BILL_AMT4',y='BILL_AMT5',color='red')\n",
    "\n",
    "plt.show()\n",
    "```\n"
   ]
  },
  {
   "cell_type": "code",
   "execution_count": null,
   "id": "762a59d8-65c8-4541-8d93-ddd5e41e82aa",
   "metadata": {},
   "outputs": [],
   "source": []
  },
  {
   "cell_type": "markdown",
   "id": "0043d338-e7b8-45d6-967a-6bb980bb6105",
   "metadata": {},
   "source": [
    "---\n",
    "## Making Predictions with `sklearn`\n",
    "\n",
    "Python's main Machine Learning library is `scikit-learn`\n",
    "- Scikit-learn is a free machine learning library for Python\n",
    "- It features various classification, regression and clustering algorithms\n",
    "\n",
    "\n",
    "### Training and Test Datasets\n",
    "\n",
    "- Lets split our data into **training** and **test** datasets\n",
    "- We will use `train_test_split` library from sklearn for this purpose\n",
    "\n",
    "\n",
    "```\n",
    "from sklearn.model_selection import train_test_split\n",
    "\n",
    "X_train, X_test, y_train, y_test = train_test_split(X, y, test_size = 0.4, random_state = 1, stratify = y)\n",
    "\n",
    "print(X_train.shape)\n",
    "print(y_train.shape)\n",
    "print(X_test.shape)\n",
    "print(y_test.shape)\n",
    "```\n"
   ]
  },
  {
   "cell_type": "code",
   "execution_count": null,
   "id": "b7a17cc5-92fc-4890-b1e0-708c00cdc593",
   "metadata": {},
   "outputs": [],
   "source": []
  },
  {
   "cell_type": "code",
   "execution_count": null,
   "id": "151f7b84-1941-4c29-a487-1d151dc8ba11",
   "metadata": {},
   "outputs": [],
   "source": []
  },
  {
   "cell_type": "code",
   "execution_count": null,
   "id": "3e3283d1-393f-4890-a9bc-9e44597b4a32",
   "metadata": {},
   "outputs": [],
   "source": []
  },
  {
   "cell_type": "markdown",
   "id": "a93f0bec-91c7-4f07-9298-671e882db634",
   "metadata": {},
   "source": [
    "\n",
    "<hr style=\"width:30%;margin-left:0;\"> \n",
    "\n",
    "### Scaling Data\n",
    "\n",
    "Standardization of features can help optimization algorithms train classifiers \n",
    "\n",
    "- `scikit-learn` contains `preprocessing` module which contains a number of classes used for standardization\n",
    "- For now we will use `StandardScalar` class \n",
    "- Scale the data by doing the following transformation $X\\sim(\\mu, \\sigma) \\rightarrow Z\\sim(0, 1)$\n",
    "\n",
    "```\n",
    "from sklearn.preprocessing import StandardScaler\n",
    "\n",
    "sc = StandardScaler()\n",
    "sc.fit(X_train)\n",
    "\n",
    "X_train_scaled = sc.transform(X_train)\n",
    "X_test_scaled = sc.transform(X_test)\n",
    "\n",
    "```\n"
   ]
  },
  {
   "cell_type": "code",
   "execution_count": null,
   "id": "76c4f962-1c9e-4420-97d5-1121078fc2ab",
   "metadata": {},
   "outputs": [],
   "source": []
  },
  {
   "cell_type": "code",
   "execution_count": null,
   "id": "cb191abb-79a7-4a69-a511-ecfe8aa0aa16",
   "metadata": {},
   "outputs": [],
   "source": []
  },
  {
   "cell_type": "code",
   "execution_count": null,
   "id": "31eea3cb-03ee-4d72-8033-6b8686be5b7e",
   "metadata": {},
   "outputs": [],
   "source": []
  },
  {
   "cell_type": "markdown",
   "id": "e957acb3-da97-4e44-82a6-eb0adc2fbecd",
   "metadata": {},
   "source": [
    "<hr style=\"width:30%;margin-left:0;\"> \n",
    "\n",
    "### Training the Classifier"
   ]
  },
  {
   "cell_type": "code",
   "execution_count": null,
   "id": "6fa63574-9983-49d3-8218-b4bebe09f809",
   "metadata": {},
   "outputs": [],
   "source": []
  },
  {
   "cell_type": "markdown",
   "id": "f36850cf-48df-4b54-93f1-9e3216260702",
   "metadata": {},
   "source": [
    "<hr style=\"width:30%;margin-left:0;\"> \n",
    "\n",
    "### Compute Accuracies\n",
    "\n",
    "```\n",
    "print(f'Training Set Accuracy = {lr.score(X_train_scaled, y_train):.3f}')\n",
    "print(f'Test Set Accuracy = {lr.score(X_test_scaled, y_test):.3f}')\n",
    "\n",
    "```\n"
   ]
  },
  {
   "cell_type": "code",
   "execution_count": null,
   "id": "4fc99924-02ca-46b9-a803-bed4eac145e0",
   "metadata": {},
   "outputs": [],
   "source": []
  },
  {
   "cell_type": "markdown",
   "id": "93215793-97f5-4122-9fab-d1a7c33c9625",
   "metadata": {},
   "source": [
    "<hr style=\"width:30%;margin-left:0;\"> \n",
    "\n",
    "### Compute Predictions\n",
    "\n",
    "- Lets compute the predicted probabilities and class label for customers 10,11,..,20\n",
    "\n",
    "```\n",
    "print(lr.predict_proba(X_test_scaled[10:20, :]))\n",
    "\n",
    "print(lr.predict(X_test_scaled[10:20, :]))\n",
    "````"
   ]
  },
  {
   "cell_type": "code",
   "execution_count": null,
   "id": "a0cc99d0-bdc5-4abb-a03c-d3bc042e1d3f",
   "metadata": {},
   "outputs": [],
   "source": []
  },
  {
   "cell_type": "code",
   "execution_count": null,
   "id": "15103361-edb3-4bf8-8484-bafb8a239cba",
   "metadata": {},
   "outputs": [],
   "source": []
  },
  {
   "cell_type": "code",
   "execution_count": null,
   "id": "ca664c1b-6dbc-4f48-90d1-4732d5bf3091",
   "metadata": {},
   "outputs": [],
   "source": []
  }
 ],
 "metadata": {
  "kernelspec": {
   "display_name": "Python 3 (ipykernel)",
   "language": "python",
   "name": "python3"
  },
  "language_info": {
   "codemirror_mode": {
    "name": "ipython",
    "version": 3
   },
   "file_extension": ".py",
   "mimetype": "text/x-python",
   "name": "python",
   "nbconvert_exporter": "python",
   "pygments_lexer": "ipython3",
   "version": "3.9.7"
  }
 },
 "nbformat": 4,
 "nbformat_minor": 5
}
